{
 "cells": [
  {
   "cell_type": "markdown",
   "id": "1c87f3b8",
   "metadata": {},
   "source": [
    "# Lab1: data analysis and visualization Python"
   ]
  },
  {
   "cell_type": "markdown",
   "id": "0c18413b",
   "metadata": {},
   "source": [
    "### Purpose : get basic knowledge of using Python for analysis and visualization  data"
   ]
  },
  {
   "cell_type": "code",
   "execution_count": 1,
   "id": "33db8e5c",
   "metadata": {},
   "outputs": [
    {
     "name": "stdout",
     "output_type": "stream",
     "text": [
      "Variant: 2\n"
     ]
    }
   ],
   "source": [
    "# find variant for Olga Tsyban\n",
    "N = ord(\"O\") % 3 + 1\n",
    "print(f\"Variant: {N}\")"
   ]
  },
  {
   "cell_type": "markdown",
   "id": "318e709c",
   "metadata": {},
   "source": [
    "> #### First step download csv file \"russia_losses_equipment.csv\" from\n",
    "> #### link : https://www.kaggle.com/datasets/piterfm/2022-ukraine-russian-war"
   ]
  },
  {
   "cell_type": "code",
   "execution_count": 2,
   "id": "1342f1bf",
   "metadata": {},
   "outputs": [],
   "source": [
    "# all imports\n",
    "import csv\n",
    "import numpy as np\n",
    "import pandas as pd\n",
    "import matplotlib.pyplot as plt\n",
    "\n"
   ]
  },
  {
   "cell_type": "code",
   "execution_count": 3,
   "id": "e178f3c7",
   "metadata": {},
   "outputs": [],
   "source": [
    "# Create a function to read a column from a CSV file\n",
    "\n",
    "def read_column_from_csv(file_name, column_name):\n",
    "    with open(file_name, mode='r', encoding='utf-8') as file:\n",
    "        reader = csv.reader(file)\n",
    "        header = next(reader)  \n",
    "        col_index = header.index(column_name) \n",
    "        column_data = [float(row[col_index]) for row in reader if row[col_index]]\n",
    "    return np.array(column_data)\n"
   ]
  },
  {
   "cell_type": "code",
   "execution_count": 5,
   "id": "4a081658",
   "metadata": {},
   "outputs": [],
   "source": [
    "# Create a numpy array from the \"tank\" column\n",
    "file_name = 'russia_losses_equipment.csv'\n",
    "column_name = 'tank'\n",
    "tank_losses = read_column_from_csv(file_name, column_name)"
   ]
  },
  {
   "cell_type": "code",
   "execution_count": 6,
   "id": "e77a2c02",
   "metadata": {},
   "outputs": [
    {
     "name": "stdout",
     "output_type": "stream",
     "text": [
      "[8636. 8632. 8631. 8624. 8618. 8611. 8601. 8592. 8582. 8574. 8571. 8568.\n",
      " 8563. 8551. 8547. 8542. 8533. 8529. 8522. 8518. 8513. 8508. 8501. 8496.\n",
      " 8484. 8476. 8455. 8450. 8447. 8441. 8434. 8431. 8429. 8421. 8417. 8411.\n",
      " 8406. 8402. 8399. 8390. 8381. 8356. 8344. 8331. 8320. 8313. 8302. 8288.\n",
      " 8284. 8266. 8257. 8250. 8245. 8238. 8227. 8214. 8206. 8199. 8191. 8182.\n",
      " 8180. 8178. 8171. 8155. 8153. 8142. 8132. 8123. 8107. 8099. 8080. 8073.\n",
      " 8066. 8042. 8039. 8035. 8031. 8019. 8009. 8001. 7987. 7984. 7974. 7958.\n",
      " 7956. 7956. 7936. 7928. 7911. 7902. 7879. 7869. 7843. 7834. 7828. 7806.\n",
      " 7794. 7779. 7765. 7740. 7728. 7710. 7700. 7692. 7671. 7662. 7650. 7635.\n",
      " 7622. 7611. 7605. 7590. 7576. 7560. 7547. 7529. 7510. 7496. 7485. 7454.\n",
      " 7449. 7434. 7429. 7418. 7405. 7380. 7375. 7366. 7354. 7332. 7312. 7307.\n",
      " 7285. 7279. 7268. 7262. 7255. 7242. 7241. 7236. 7229. 7213. 7205. 7196.\n",
      " 7193. 7189. 7180. 7174. 7169. 7146. 7137. 7132. 7110. 7087. 7074. 7057.\n",
      " 7033. 7018. 7009. 6998. 6986. 6966. 6951. 6922. 6914. 6904. 6893. 6887.\n",
      " 6876. 6852. 6840. 6832. 6828. 6819. 6809. 6790. 6779. 6758. 6757. 6752.\n",
      " 6747. 6739. 6731. 6712. 6706. 6695. 6678. 6657. 6648. 6640. 6624. 6610.\n",
      " 6593. 6570. 6556. 6555. 6542. 6534. 6526. 6523. 6516. 6503. 6498. 6487.\n",
      " 6476. 6465. 6442. 6433. 6424. 6416. 6406. 6394. 6385. 6383. 6372. 6365.\n",
      " 6348. 6343. 6341. 6331. 6322. 6310. 6300. 6290. 6280. 6271. 6265. 6257.\n",
      " 6227. 6214. 6192. 6181. 6171. 6167. 6147. 6126. 6113. 6089. 6075. 6065.\n",
      " 6060. 6050. 6038. 6036. 6031. 6022. 6018. 6011. 6002. 5990. 5990. 5983.\n",
      " 5977. 5969. 5953. 5940. 5913. 5899. 5877. 5858. 5854. 5837. 5828. 5814.\n",
      " 5798. 5783. 5739. 5720. 5706. 5692. 5682. 5664. 5655. 5636. 5632. 5626.\n",
      " 5618. 5600. 5587. 5580. 5575. 5571. 5564. 5551. 5538. 5523. 5520. 5513.\n",
      " 5502. 5496. 5466. 5446. 5439. 5439. 5435. 5422. 5415. 5388. 5377. 5362.\n",
      " 5354. 5349. 5342. 5317. 5316. 5301. 5293. 5288. 5284. 5276. 5265. 5241.\n",
      " 5223. 5211. 5190. 5175. 5167. 5145. 5141. 5112. 5105. 5093. 5081. 5063.\n",
      " 5047. 4992. 4981. 4979. 4965. 4948. 4940. 4931. 4905. 4863. 4829. 4823.\n",
      " 4821. 4800. 4777. 4757. 4745. 4732. 4712. 4702. 4691. 4687. 4679. 4675.\n",
      " 4672. 4667. 4662. 4655. 4644. 4638. 4635. 4628. 4623. 4620. 4616. 4612.\n",
      " 4599. 4584. 4568. 4560. 4554. 4544. 4529. 4506. 4497. 4489. 4480. 4476.\n",
      " 4471. 4459. 4436. 4423. 4414. 4400. 4396. 4390. 4378. 4375. 4373. 4362.\n",
      " 4358. 4346. 4340. 4332. 4329. 4324. 4313. 4306. 4298. 4295. 4290. 4278.\n",
      " 4262. 4254. 4244. 4237. 4232. 4228. 4224. 4217. 4216. 4211. 4205. 4191.\n",
      " 4190. 4186. 4177. 4174. 4162. 4151. 4140. 4133. 4129. 4123. 4119. 4115.\n",
      " 4107. 4102. 4097. 4092. 4090. 4089. 4085. 4078. 4074. 4070. 4068. 4062.\n",
      " 4059. 4057. 4052. 4042. 4041. 4038. 4036. 4036. 4031. 4030. 4024. 4017.\n",
      " 4013. 4006. 3997. 3989. 3984. 3977. 3965. 3955. 3943. 3935. 3931. 3926.\n",
      " 3909. 3901. 3891. 3873. 3860. 3848. 3837. 3829. 3819. 3804. 3802. 3802.\n",
      " 3801. 3797. 3799. 3796. 3795. 3792. 3789. 3785. 3783. 3781. 3777. 3773.\n",
      " 3771. 3762. 3759. 3756. 3751. 3745. 3740. 3736. 3734. 3730. 3723. 3717.\n",
      " 3710. 3707. 3702. 3701. 3700. 3699. 3697. 3694. 3694. 3692. 3688. 3683.\n",
      " 3675. 3672. 3668. 3667. 3665. 3661. 3660. 3657. 3653. 3650. 3646. 3646.\n",
      " 3644. 3637. 3636. 3636. 3633. 3631. 3629. 3627. 3619. 3618. 3616. 3615.\n",
      " 3610. 3609. 3602. 3595. 3595. 3580. 3574. 3570. 3557. 3552. 3537. 3532.\n",
      " 3511. 3506. 3504. 3492. 3484. 3474. 3466. 3458. 3448. 3441. 3436. 3432.\n",
      " 3423. 3414. 3409. 3405. 3397. 3395. 3388. 3385. 3381. 3375. 3363. 3350.\n",
      " 3334. 3326. 3316. 3310. 3303. 3298. 3296. 3290. 3286. 3283. 3280. 3267.\n",
      " 3258. 3255. 3253. 3245. 3231. 3220. 3218. 3215. 3211. 3209. 3201. 3201.\n",
      " 3197. 3189. 3182. 3175. 3161. 3152. 3150. 3145. 3140. 3139. 3136. 3130.\n",
      " 3121. 3118. 3106. 3104. 3098. 3094. 3094. 3084. 3080. 3069. 3066. 3064.\n",
      " 3041. 3038. 3036. 3031. 3031. 3029. 3026. 3018. 3017. 3016. 3016. 3011.\n",
      " 3006. 3005. 3002. 3002. 2995. 2988. 2987. 2985. 2980. 2975. 2970. 2966.\n",
      " 2966. 2942. 2940. 2937. 2937. 2935. 2929. 2924. 2922. 2917. 2916. 2915.\n",
      " 2914. 2911. 2908. 2905. 2901. 2899. 2898. 2897. 2895. 2892. 2886. 2885.\n",
      " 2879. 2878. 2871. 2861. 2848. 2840. 2838. 2814. 2804. 2801. 2786. 2771.\n",
      " 2765. 2758. 2750. 2734. 2714. 2698. 2686. 2672. 2659. 2640. 2631. 2628.\n",
      " 2611. 2590. 2584. 2579. 2573. 2567. 2554. 2548. 2537. 2529. 2524. 2521.\n",
      " 2511. 2505. 2504. 2495. 2486. 2472. 2466. 2449. 2435. 2424. 2380. 2377.\n",
      " 2354. 2338. 2325. 2312. 2306. 2290. 2275. 2262. 2254. 2236. 2227. 2216.\n",
      " 2212. 2210. 2202. 2199. 2193. 2180. 2175. 2169. 2154. 2136. 2122. 2112.\n",
      " 2097. 2077. 2068. 2049. 2034. 2009. 1997. 1974. 1954. 1947. 1942. 1939.\n",
      " 1936. 1929. 1924. 1921. 1919. 1912. 1907. 1899. 1889. 1886. 1880. 1876.\n",
      " 1864. 1856. 1849. 1846. 1832. 1817. 1811. 1805. 1802. 1792. 1789. 1774.\n",
      " 1768. 1768. 1763. 1759. 1749. 1742. 1738. 1737. 1730. 1722. 1708. 1704.\n",
      " 1704. 1700. 1691. 1687. 1684. 1677. 1672. 1667. 1649. 1649. 1645. 1641.\n",
      " 1638. 1637. 1602. 1600. 1594. 1589. 1584. 1582. 1577. 1573. 1572. 1567.\n",
      " 1552. 1532. 1511. 1507. 1504. 1496. 1496. 1477. 1468. 1465. 1456. 1449.\n",
      " 1440. 1434. 1432. 1430. 1419. 1409. 1398. 1393. 1390. 1386. 1381. 1376.\n",
      " 1367. 1363. 1361. 1358. 1349. 1338. 1330. 1322. 1315. 1305. 1302. 1293.\n",
      " 1285. 1278. 1263. 1254. 1251. 1235. 1228. 1220. 1218. 1205. 1195. 1187.\n",
      " 1170. 1145. 1130. 1122. 1110. 1092. 1077. 1062. 1048. 1026. 1008.  986.\n",
      "  970.  939.  918.  884.  873.  854.  838.  829.  815.  802.  790.  773.\n",
      "  762.  756.  753.  739.  732.  725.  722.  705.  700.  698.  684.  676.\n",
      "  647.  644.  631.  625.  614.  605.  597.  586.  582.  575.  561.  530.\n",
      "  517.  509.  498.  476.  466.  450.  444.  430.  404.  389.  374.  362.\n",
      "  353.  335.  317.  303.  290.  285.  269.  251.  217.  211.  198.  150.\n",
      "  150.  146.   80.]\n"
     ]
    }
   ],
   "source": [
    "# print np array tank_losses\n",
    "print(tank_losses)"
   ]
  },
  {
   "cell_type": "code",
   "execution_count": 7,
   "id": "1ab6feb8",
   "metadata": {},
   "outputs": [],
   "source": [
    "# calculate daily tank loses\n",
    "# input parameter(tank_losses) is numpy array\n",
    "\n",
    "def daily_losses(tank_losses):\n",
    "    return np.diff(tank_losses)"
   ]
  },
  {
   "cell_type": "code",
   "execution_count": 12,
   "id": "3cd26e43",
   "metadata": {},
   "outputs": [
    {
     "name": "stdout",
     "output_type": "stream",
     "text": [
      "[ -4.  -1.  -7.  -6.  -7. -10.  -9. -10.  -8.  -3.  -3.  -5. -12.  -4.\n",
      "  -5.  -9.  -4.  -7.  -4.  -5.  -5.  -7.  -5. -12.  -8. -21.  -5.  -3.\n",
      "  -6.  -7.  -3.  -2.  -8.  -4.  -6.  -5.  -4.  -3.  -9.  -9. -25. -12.\n",
      " -13. -11.  -7. -11. -14.  -4. -18.  -9.  -7.  -5.  -7. -11. -13.  -8.\n",
      "  -7.  -8.  -9.  -2.  -2.  -7. -16.  -2. -11. -10.  -9. -16.  -8. -19.\n",
      "  -7.  -7. -24.  -3.  -4.  -4. -12. -10.  -8. -14.  -3. -10. -16.  -2.\n",
      "   0. -20.  -8. -17.  -9. -23. -10. -26.  -9.  -6. -22. -12. -15. -14.\n",
      " -25. -12. -18. -10.  -8. -21.  -9. -12. -15. -13. -11.  -6. -15. -14.\n",
      " -16. -13. -18. -19. -14. -11. -31.  -5. -15.  -5. -11. -13. -25.  -5.\n",
      "  -9. -12. -22. -20.  -5. -22.  -6. -11.  -6.  -7. -13.  -1.  -5.  -7.\n",
      " -16.  -8.  -9.  -3.  -4.  -9.  -6.  -5. -23.  -9.  -5. -22. -23. -13.\n",
      " -17. -24. -15.  -9. -11. -12. -20. -15. -29.  -8. -10. -11.  -6. -11.\n",
      " -24. -12.  -8.  -4.  -9. -10. -19. -11. -21.  -1.  -5.  -5.  -8.  -8.\n",
      " -19.  -6. -11. -17. -21.  -9.  -8. -16. -14. -17. -23. -14.  -1. -13.\n",
      "  -8.  -8.  -3.  -7. -13.  -5. -11. -11. -11. -23.  -9.  -9.  -8. -10.\n",
      " -12.  -9.  -2. -11.  -7. -17.  -5.  -2. -10.  -9. -12. -10. -10. -10.\n",
      "  -9.  -6.  -8. -30. -13. -22. -11. -10.  -4. -20. -21. -13. -24. -14.\n",
      " -10.  -5. -10. -12.  -2.  -5.  -9.  -4.  -7.  -9. -12.   0.  -7.  -6.\n",
      "  -8. -16. -13. -27. -14. -22. -19.  -4. -17.  -9. -14. -16. -15. -44.\n",
      " -19. -14. -14. -10. -18.  -9. -19.  -4.  -6.  -8. -18. -13.  -7.  -5.\n",
      "  -4.  -7. -13. -13. -15.  -3.  -7. -11.  -6. -30. -20.  -7.   0.  -4.\n",
      " -13.  -7. -27. -11. -15.  -8.  -5.  -7. -25.  -1. -15.  -8.  -5.  -4.\n",
      "  -8. -11. -24. -18. -12. -21. -15.  -8. -22.  -4. -29.  -7. -12. -12.\n",
      " -18. -16. -55. -11.  -2. -14. -17.  -8.  -9. -26. -42. -34.  -6.  -2.\n",
      " -21. -23. -20. -12. -13. -20. -10. -11.  -4.  -8.  -4.  -3.  -5.  -5.\n",
      "  -7. -11.  -6.  -3.  -7.  -5.  -3.  -4.  -4. -13. -15. -16.  -8.  -6.\n",
      " -10. -15. -23.  -9.  -8.  -9.  -4.  -5. -12. -23. -13.  -9. -14.  -4.\n",
      "  -6. -12.  -3.  -2. -11.  -4. -12.  -6.  -8.  -3.  -5. -11.  -7.  -8.\n",
      "  -3.  -5. -12. -16.  -8. -10.  -7.  -5.  -4.  -4.  -7.  -1.  -5.  -6.\n",
      " -14.  -1.  -4.  -9.  -3. -12. -11. -11.  -7.  -4.  -6.  -4.  -4.  -8.\n",
      "  -5.  -5.  -5.  -2.  -1.  -4.  -7.  -4.  -4.  -2.  -6.  -3.  -2.  -5.\n",
      " -10.  -1.  -3.  -2.   0.  -5.  -1.  -6.  -7.  -4.  -7.  -9.  -8.  -5.\n",
      "  -7. -12. -10. -12.  -8.  -4.  -5. -17.  -8. -10. -18. -13. -12. -11.\n",
      "  -8. -10. -15.  -2.   0.  -1.  -4.   2.  -3.  -1.  -3.  -3.  -4.  -2.\n",
      "  -2.  -4.  -4.  -2.  -9.  -3.  -3.  -5.  -6.  -5.  -4.  -2.  -4.  -7.\n",
      "  -6.  -7.  -3.  -5.  -1.  -1.  -1.  -2.  -3.   0.  -2.  -4.  -5.  -8.\n",
      "  -3.  -4.  -1.  -2.  -4.  -1.  -3.  -4.  -3.  -4.   0.  -2.  -7.  -1.\n",
      "   0.  -3.  -2.  -2.  -2.  -8.  -1.  -2.  -1.  -5.  -1.  -7.  -7.   0.\n",
      " -15.  -6.  -4. -13.  -5. -15.  -5. -21.  -5.  -2. -12.  -8. -10.  -8.\n",
      "  -8. -10.  -7.  -5.  -4.  -9.  -9.  -5.  -4.  -8.  -2.  -7.  -3.  -4.\n",
      "  -6. -12. -13. -16.  -8. -10.  -6.  -7.  -5.  -2.  -6.  -4.  -3.  -3.\n",
      " -13.  -9.  -3.  -2.  -8. -14. -11.  -2.  -3.  -4.  -2.  -8.   0.  -4.\n",
      "  -8.  -7.  -7. -14.  -9.  -2.  -5.  -5.  -1.  -3.  -6.  -9.  -3. -12.\n",
      "  -2.  -6.  -4.   0. -10.  -4. -11.  -3.  -2. -23.  -3.  -2.  -5.   0.\n",
      "  -2.  -3.  -8.  -1.  -1.   0.  -5.  -5.  -1.  -3.   0.  -7.  -7.  -1.\n",
      "  -2.  -5.  -5.  -5.  -4.   0. -24.  -2.  -3.   0.  -2.  -6.  -5.  -2.\n",
      "  -5.  -1.  -1.  -1.  -3.  -3.  -3.  -4.  -2.  -1.  -1.  -2.  -3.  -6.\n",
      "  -1.  -6.  -1.  -7. -10. -13.  -8.  -2. -24. -10.  -3. -15. -15.  -6.\n",
      "  -7.  -8. -16. -20. -16. -12. -14. -13. -19.  -9.  -3. -17. -21.  -6.\n",
      "  -5.  -6.  -6. -13.  -6. -11.  -8.  -5.  -3. -10.  -6.  -1.  -9.  -9.\n",
      " -14.  -6. -17. -14. -11. -44.  -3. -23. -16. -13. -13.  -6. -16. -15.\n",
      " -13.  -8. -18.  -9. -11.  -4.  -2.  -8.  -3.  -6. -13.  -5.  -6. -15.\n",
      " -18. -14. -10. -15. -20.  -9. -19. -15. -25. -12. -23. -20.  -7.  -5.\n",
      "  -3.  -3.  -7.  -5.  -3.  -2.  -7.  -5.  -8. -10.  -3.  -6.  -4. -12.\n",
      "  -8.  -7.  -3. -14. -15.  -6.  -6.  -3. -10.  -3. -15.  -6.   0.  -5.\n",
      "  -4. -10.  -7.  -4.  -1.  -7.  -8. -14.  -4.   0.  -4.  -9.  -4.  -3.\n",
      "  -7.  -5.  -5. -18.   0.  -4.  -4.  -3.  -1. -35.  -2.  -6.  -5.  -5.\n",
      "  -2.  -5.  -4.  -1.  -5. -15. -20. -21.  -4.  -3.  -8.   0. -19.  -9.\n",
      "  -3.  -9.  -7.  -9.  -6.  -2.  -2. -11. -10. -11.  -5.  -3.  -4.  -5.\n",
      "  -5.  -9.  -4.  -2.  -3.  -9. -11.  -8.  -8.  -7. -10.  -3.  -9.  -8.\n",
      "  -7. -15.  -9.  -3. -16.  -7.  -8.  -2. -13. -10.  -8. -17. -25. -15.\n",
      "  -8. -12. -18. -15. -15. -14. -22. -18. -22. -16. -31. -21. -34. -11.\n",
      " -19. -16.  -9. -14. -13. -12. -17. -11.  -6.  -3. -14.  -7.  -7.  -3.\n",
      " -17.  -5.  -2. -14.  -8. -29.  -3. -13.  -6. -11.  -9.  -8. -11.  -4.\n",
      "  -7. -14. -31. -13.  -8. -11. -22. -10. -16.  -6. -14. -26. -15. -15.\n",
      " -12.  -9. -18. -18. -14. -13.  -5. -16. -18. -34.  -6. -13. -48.   0.\n",
      "  -4. -66.]\n"
     ]
    }
   ],
   "source": [
    "result_daily_losses = daily_losses(tank_losses)\n",
    "print(result_daily_losses)"
   ]
  },
  {
   "cell_type": "code",
   "execution_count": 69,
   "id": "0eedfbfd",
   "metadata": {},
   "outputs": [],
   "source": [
    "# function to normalize output after <def daily losses()>\n",
    "\n",
    "def normalize_daily_losses(daily_losses):\n",
    "    result = daily_losses * (-1)\n",
    "    return np.where(result == -0.0, 0.0, result)"
   ]
  },
  {
   "cell_type": "code",
   "execution_count": 72,
   "id": "b9524544",
   "metadata": {},
   "outputs": [
    {
     "name": "stdout",
     "output_type": "stream",
     "text": [
      "[ 4.  1.  7.  6.  7. 10.  9. 10.  8.  3.  3.  5. 12.  4.  5.  9.  4.  7.\n",
      "  4.  5.  5.  7.  5. 12.  8. 21.  5.  3.  6.  7.  3.  2.  8.  4.  6.  5.\n",
      "  4.  3.  9.  9. 25. 12. 13. 11.  7. 11. 14.  4. 18.  9.  7.  5.  7. 11.\n",
      " 13.  8.  7.  8.  9.  2.  2.  7. 16.  2. 11. 10.  9. 16.  8. 19.  7.  7.\n",
      " 24.  3.  4.  4. 12. 10.  8. 14.  3. 10. 16.  2.  0. 20.  8. 17.  9. 23.\n",
      " 10. 26.  9.  6. 22. 12. 15. 14. 25. 12. 18. 10.  8. 21.  9. 12. 15. 13.\n",
      " 11.  6. 15. 14. 16. 13. 18. 19. 14. 11. 31.  5. 15.  5. 11. 13. 25.  5.\n",
      "  9. 12. 22. 20.  5. 22.  6. 11.  6.  7. 13.  1.  5.  7. 16.  8.  9.  3.\n",
      "  4.  9.  6.  5. 23.  9.  5. 22. 23. 13. 17. 24. 15.  9. 11. 12. 20. 15.\n",
      " 29.  8. 10. 11.  6. 11. 24. 12.  8.  4.  9. 10. 19. 11. 21.  1.  5.  5.\n",
      "  8.  8. 19.  6. 11. 17. 21.  9.  8. 16. 14. 17. 23. 14.  1. 13.  8.  8.\n",
      "  3.  7. 13.  5. 11. 11. 11. 23.  9.  9.  8. 10. 12.  9.  2. 11.  7. 17.\n",
      "  5.  2. 10.  9. 12. 10. 10. 10.  9.  6.  8. 30. 13. 22. 11. 10.  4. 20.\n",
      " 21. 13. 24. 14. 10.  5. 10. 12.  2.  5.  9.  4.  7.  9. 12.  0.  7.  6.\n",
      "  8. 16. 13. 27. 14. 22. 19.  4. 17.  9. 14. 16. 15. 44. 19. 14. 14. 10.\n",
      " 18.  9. 19.  4.  6.  8. 18. 13.  7.  5.  4.  7. 13. 13. 15.  3.  7. 11.\n",
      "  6. 30. 20.  7.  0.  4. 13.  7. 27. 11. 15.  8.  5.  7. 25.  1. 15.  8.\n",
      "  5.  4.  8. 11. 24. 18. 12. 21. 15.  8. 22.  4. 29.  7. 12. 12. 18. 16.\n",
      " 55. 11.  2. 14. 17.  8.  9. 26. 42. 34.  6.  2. 21. 23. 20. 12. 13. 20.\n",
      " 10. 11.  4.  8.  4.  3.  5.  5.  7. 11.  6.  3.  7.  5.  3.  4.  4. 13.\n",
      " 15. 16.  8.  6. 10. 15. 23.  9.  8.  9.  4.  5. 12. 23. 13.  9. 14.  4.\n",
      "  6. 12.  3.  2. 11.  4. 12.  6.  8.  3.  5. 11.  7.  8.  3.  5. 12. 16.\n",
      "  8. 10.  7.  5.  4.  4.  7.  1.  5.  6. 14.  1.  4.  9.  3. 12. 11. 11.\n",
      "  7.  4.  6.  4.  4.  8.  5.  5.  5.  2.  1.  4.  7.  4.  4.  2.  6.  3.\n",
      "  2.  5. 10.  1.  3.  2.  0.  5.  1.  6.  7.  4.  7.  9.  8.  5.  7. 12.\n",
      " 10. 12.  8.  4.  5. 17.  8. 10. 18. 13. 12. 11.  8. 10. 15.  2.  0.  1.\n",
      "  4. -2.  3.  1.  3.  3.  4.  2.  2.  4.  4.  2.  9.  3.  3.  5.  6.  5.\n",
      "  4.  2.  4.  7.  6.  7.  3.  5.  1.  1.  1.  2.  3.  0.  2.  4.  5.  8.\n",
      "  3.  4.  1.  2.  4.  1.  3.  4.  3.  4.  0.  2.  7.  1.  0.  3.  2.  2.\n",
      "  2.  8.  1.  2.  1.  5.  1.  7.  7.  0. 15.  6.  4. 13.  5. 15.  5. 21.\n",
      "  5.  2. 12.  8. 10.  8.  8. 10.  7.  5.  4.  9.  9.  5.  4.  8.  2.  7.\n",
      "  3.  4.  6. 12. 13. 16.  8. 10.  6.  7.  5.  2.  6.  4.  3.  3. 13.  9.\n",
      "  3.  2.  8. 14. 11.  2.  3.  4.  2.  8.  0.  4.  8.  7.  7. 14.  9.  2.\n",
      "  5.  5.  1.  3.  6.  9.  3. 12.  2.  6.  4.  0. 10.  4. 11.  3.  2. 23.\n",
      "  3.  2.  5.  0.  2.  3.  8.  1.  1.  0.  5.  5.  1.  3.  0.  7.  7.  1.\n",
      "  2.  5.  5.  5.  4.  0. 24.  2.  3.  0.  2.  6.  5.  2.  5.  1.  1.  1.\n",
      "  3.  3.  3.  4.  2.  1.  1.  2.  3.  6.  1.  6.  1.  7. 10. 13.  8.  2.\n",
      " 24. 10.  3. 15. 15.  6.  7.  8. 16. 20. 16. 12. 14. 13. 19.  9.  3. 17.\n",
      " 21.  6.  5.  6.  6. 13.  6. 11.  8.  5.  3. 10.  6.  1.  9.  9. 14.  6.\n",
      " 17. 14. 11. 44.  3. 23. 16. 13. 13.  6. 16. 15. 13.  8. 18.  9. 11.  4.\n",
      "  2.  8.  3.  6. 13.  5.  6. 15. 18. 14. 10. 15. 20.  9. 19. 15. 25. 12.\n",
      " 23. 20.  7.  5.  3.  3.  7.  5.  3.  2.  7.  5.  8. 10.  3.  6.  4. 12.\n",
      "  8.  7.  3. 14. 15.  6.  6.  3. 10.  3. 15.  6.  0.  5.  4. 10.  7.  4.\n",
      "  1.  7.  8. 14.  4.  0.  4.  9.  4.  3.  7.  5.  5. 18.  0.  4.  4.  3.\n",
      "  1. 35.  2.  6.  5.  5.  2.  5.  4.  1.  5. 15. 20. 21.  4.  3.  8.  0.\n",
      " 19.  9.  3.  9.  7.  9.  6.  2.  2. 11. 10. 11.  5.  3.  4.  5.  5.  9.\n",
      "  4.  2.  3.  9. 11.  8.  8.  7. 10.  3.  9.  8.  7. 15.  9.  3. 16.  7.\n",
      "  8.  2. 13. 10.  8. 17. 25. 15.  8. 12. 18. 15. 15. 14. 22. 18. 22. 16.\n",
      " 31. 21. 34. 11. 19. 16.  9. 14. 13. 12. 17. 11.  6.  3. 14.  7.  7.  3.\n",
      " 17.  5.  2. 14.  8. 29.  3. 13.  6. 11.  9.  8. 11.  4.  7. 14. 31. 13.\n",
      "  8. 11. 22. 10. 16.  6. 14. 26. 15. 15. 12.  9. 18. 18. 14. 13.  5. 16.\n",
      " 18. 34.  6. 13. 48.  0.  4. 66.]\n",
      "\n",
      "result 0 element: 4.0\n"
     ]
    }
   ],
   "source": [
    "#result_daily_losses = result_daily_losses * (-1)\n",
    "\n",
    "# Normalize -0 to 0\n",
    "#result_daily_losses = np.where(result_daily_losses == -0.0, 0.0, result_daily_losses)\n",
    "\n",
    "result_daily_losses = normalize_daily_losses(result_daily_losses)\n",
    "print(result_daily_losses)\n",
    "\n",
    "print(f\"\\nresult 0 element: {result_daily_losses[0]}\")"
   ]
  },
  {
   "cell_type": "code",
   "execution_count": 71,
   "id": "8b1f412e",
   "metadata": {},
   "outputs": [],
   "source": [
    "# found 4 highst tank loses\n",
    "# daily_losses:numpy.array\n",
    "\n",
    "def largest_losses(daily_losses, top_n=4):\n",
    "    return np.sort(daily_losses)[-top_n:][::-1]"
   ]
  },
  {
   "cell_type": "code",
   "execution_count": 67,
   "id": "e070da20",
   "metadata": {},
   "outputs": [
    {
     "name": "stdout",
     "output_type": "stream",
     "text": [
      "[66. 55. 48. 44.]\n"
     ]
    }
   ],
   "source": [
    "print(largest_losses(result_daily_losses, top_n=4))"
   ]
  },
  {
   "cell_type": "code",
   "execution_count": 25,
   "id": "07cde2bc",
   "metadata": {},
   "outputs": [],
   "source": [
    "# find tank destroyed in spring 2023\n",
    "#def losses_in_spring(file_name):\n",
    "   # df = pd.read_csv(file_name, parse_dates=['date'])\n",
    "   # spring_2023 = df[(df['date'] >= '2023-03-01') & (df['date'] <= '2023-05-31')]\n",
    "   # return spring_2023['tank'].sum()\n"
   ]
  },
  {
   "cell_type": "code",
   "execution_count": null,
   "id": "654f0271",
   "metadata": {},
   "outputs": [],
   "source": [
    "#print(losses_in_spring(file_name))"
   ]
  },
  {
   "cell_type": "code",
   "execution_count": 73,
   "id": "b77f9aed",
   "metadata": {},
   "outputs": [
    {
     "data": {
      "text/plain": [
       "407.0"
      ]
     },
     "execution_count": 73,
     "metadata": {},
     "output_type": "execute_result"
    }
   ],
   "source": [
    "# find tank destroyed in spring 2023 (better approach,with Pandas)\n",
    "def losses_in_spring2023(file_name):\n",
    "    df = pd.read_csv(file_name, parse_dates=['date'])\n",
    "    spring_2023 = df[(df['date'] >= '2023-03-01') & (df['date'] <= '2023-05-31')]\n",
    "    data = daily_losses(spring_2023['tank'])\n",
    "    #data_res = np.sort(data)\n",
    "    data = normalize_daily_losses(data)\n",
    "    return data.sum()\n",
    "\n",
    "# call function to see the result\n",
    "losses_in_spring2023(file_name)"
   ]
  },
  {
   "cell_type": "code",
   "execution_count": 96,
   "id": "5632f8b0",
   "metadata": {},
   "outputs": [],
   "source": [
    "# find tank destroyed in spring 2023 (better approach,with NumPY)\n",
    "# Use genfromtxt but add the 'invalid_raise=False' parameter to avoid errors on mismatched rows\n",
    "# Check if the column exists and return its values   \n",
    "def read_column_from_csv(file_name, column_name):\n",
    "    data = np.genfromtxt(file_name, delimiter=',', dtype=None, encoding='utf-8', names=True, invalid_raise=False)\n",
    "    if column_name in data.dtype.names:\n",
    "        return data[column_name]\n",
    "    else:\n",
    "        raise ValueError(f\"Column '{column_name}' not found in the CSV file.\")\n",
    "\n",
    "        \n",
    "# Read the date and tank losses columns from the CSV file\n",
    "# Conversion of 'date' column to NumPy datetime64 format\n",
    "def losses_in_spring(file_name, column_one, column_two):\n",
    "    dates = read_column_from_csv(file_name, column_one)\n",
    "    tank_losses = read_column_from_csv(file_name, column_two).astype(float)\n",
    "    \n",
    "    date_parsed = np.array(dates, dtype='datetime64[D]')\n",
    "    start_date = np.datetime64('2023-03-01')\n",
    "    end_date = np.datetime64('2023-05-31')\n",
    "\n",
    "    spring_filter = (date_parsed >= start_date) & (date_parsed <= end_date)\n",
    "    spring_tank_losses = tank_losses[spring_filter]\n",
    "    \n",
    "    daily_tank = daily_losses(spring_tank_losses)\n",
    "    tank = normalize_daily_losses(daily_tank)\n",
    "    return np.sum(tank)"
   ]
  },
  {
   "cell_type": "code",
   "execution_count": 97,
   "id": "e3f7237a",
   "metadata": {},
   "outputs": [
    {
     "name": "stdout",
     "output_type": "stream",
     "text": [
      "407.0\n"
     ]
    },
    {
     "name": "stderr",
     "output_type": "stream",
     "text": [
      "/var/folders/0q/vd8vp_qd01bd8sd6_z13gjq80000gn/T/ipykernel_96779/1631350916.py:5: ConversionWarning: Some errors were detected !\n",
      "    Line #617 (got 20 columns instead of 19)\n",
      "    Line #624 (got 20 columns instead of 19)\n",
      "    Line #626 (got 20 columns instead of 19)\n",
      "    Line #653 (got 20 columns instead of 19)\n",
      "    Line #656 (got 20 columns instead of 19)\n",
      "    Line #657 (got 20 columns instead of 19)\n",
      "    Line #664 (got 20 columns instead of 19)\n",
      "    Line #673 (got 20 columns instead of 19)\n",
      "    Line #700 (got 20 columns instead of 19)\n",
      "    Line #703 (got 20 columns instead of 19)\n",
      "    Line #705 (got 20 columns instead of 19)\n",
      "    Line #780 (got 20 columns instead of 19)\n",
      "    Line #811 (got 20 columns instead of 19)\n",
      "    Line #815 (got 20 columns instead of 19)\n",
      "    Line #845 (got 20 columns instead of 19)\n",
      "    Line #846 (got 20 columns instead of 19)\n",
      "    Line #853 (got 20 columns instead of 19)\n",
      "    Line #860 (got 20 columns instead of 19)\n",
      "  data = np.genfromtxt(file_name, delimiter=',', dtype=None, encoding='utf-8', names=True, invalid_raise=False)\n"
     ]
    }
   ],
   "source": [
    "total_losses = losses_in_spring(file_name, 'date', 'tank')\n",
    "print(total_losses)"
   ]
  },
  {
   "cell_type": "code",
   "execution_count": 36,
   "id": "0f5cdad7",
   "metadata": {},
   "outputs": [],
   "source": [
    "# Average tank losses for the last 100 days\n",
    "#def avg_last_100_days_general(tank_losses):\n",
    " #   return np.mean(tank_losses[-100:])"
   ]
  },
  {
   "cell_type": "code",
   "execution_count": null,
   "id": "e94c908a",
   "metadata": {},
   "outputs": [],
   "source": [
    "#print(avg_last_100_days_general(tank_losses))"
   ]
  },
  {
   "cell_type": "code",
   "execution_count": 33,
   "id": "dbe8185b",
   "metadata": {},
   "outputs": [
    {
     "data": {
      "text/plain": [
       "9.05050505050505"
      ]
     },
     "execution_count": 33,
     "metadata": {},
     "output_type": "execute_result"
    }
   ],
   "source": [
    "# Average tank losses for the las 100 (better approach with Pandas)\n",
    "\n",
    "def avg_last_100_days(file_name):\n",
    "    df = pd.read_csv(file_name, parse_dates=['date'])\n",
    "    # Sort the DataFrame by 'date' to get the last 100 days\n",
    "    df = df.sort_values(by='date')\n",
    "    # Filter the last 100 days\n",
    "    last_100_days = df.tail(100)\n",
    "    # Calculate daily tank losses for the last 100 days\n",
    "    data = daily_losses(last_100_days['tank'])\n",
    "    return np.mean(data)\n",
    "\n",
    "avg_last_100_days(file_name)"
   ]
  },
  {
   "cell_type": "code",
   "execution_count": 100,
   "id": "0c913fc1",
   "metadata": {},
   "outputs": [
    {
     "name": "stderr",
     "output_type": "stream",
     "text": [
      "/var/folders/0q/vd8vp_qd01bd8sd6_z13gjq80000gn/T/ipykernel_96779/1631350916.py:5: ConversionWarning: Some errors were detected !\n",
      "    Line #617 (got 20 columns instead of 19)\n",
      "    Line #624 (got 20 columns instead of 19)\n",
      "    Line #626 (got 20 columns instead of 19)\n",
      "    Line #653 (got 20 columns instead of 19)\n",
      "    Line #656 (got 20 columns instead of 19)\n",
      "    Line #657 (got 20 columns instead of 19)\n",
      "    Line #664 (got 20 columns instead of 19)\n",
      "    Line #673 (got 20 columns instead of 19)\n",
      "    Line #700 (got 20 columns instead of 19)\n",
      "    Line #703 (got 20 columns instead of 19)\n",
      "    Line #705 (got 20 columns instead of 19)\n",
      "    Line #780 (got 20 columns instead of 19)\n",
      "    Line #811 (got 20 columns instead of 19)\n",
      "    Line #815 (got 20 columns instead of 19)\n",
      "    Line #845 (got 20 columns instead of 19)\n",
      "    Line #846 (got 20 columns instead of 19)\n",
      "    Line #853 (got 20 columns instead of 19)\n",
      "    Line #860 (got 20 columns instead of 19)\n",
      "  data = np.genfromtxt(file_name, delimiter=',', dtype=None, encoding='utf-8', names=True, invalid_raise=False)\n"
     ]
    },
    {
     "data": {
      "text/plain": [
       "9.05050505050505"
      ]
     },
     "execution_count": 100,
     "metadata": {},
     "output_type": "execute_result"
    }
   ],
   "source": [
    "# Average tank losses for the las 100 (better approach NumPY)\n",
    "# Here i use converting 'date' column to NumPy datetime64 format\n",
    "def avg_last_100_days(file_name, date_column, tank_column):\n",
    "    dates = read_column_from_csv(file_name, date_column)\n",
    "    tank_losses = read_column_from_csv(file_name, tank_column).astype(float)\n",
    "    \n",
    "    date_parsed = np.array(dates, dtype='datetime64[D]')\n",
    "    \n",
    "    # Sort the data by 'date'\n",
    "    sorted_indices = np.argsort(date_parsed)\n",
    "    sorted_dates = date_parsed[sorted_indices]\n",
    "    sorted_tank_losses = tank_losses[sorted_indices]\n",
    "    \n",
    "    if len(sorted_dates) > 100:\n",
    "        last_100_days_indices = slice(-100, None)\n",
    "    else:\n",
    "        last_100_days_indices = slice(None)\n",
    "    \n",
    "    last_100_dates = sorted_dates[last_100_days_indices]\n",
    "    last_100_tank_losses = sorted_tank_losses[last_100_days_indices]\n",
    "    \n",
    "    data = daily_losses(last_100_tank_losses)\n",
    "    return np.mean(data)\n",
    "\n",
    "# call function to get a result\n",
    "avg_last_100_days(file_name, 'date', 'tank')"
   ]
  },
  {
   "cell_type": "code",
   "execution_count": 41,
   "id": "ca914e08",
   "metadata": {},
   "outputs": [],
   "source": [
    "# Plot tank losses for the last year\n",
    "def plot_tank_losses(file_name):\n",
    "    df = pd.read_csv(file_name, parse_dates=['date'])\n",
    "    last_year = df[df['date'] >= df['date'].max() - pd.DateOffset(years=1)]\n",
    "    \n",
    "    plt.figure(figsize=(8, 16), dpi=100)\n",
    "    plt.plot(last_year['date'], last_year['tank'], linestyle='--', color='purple', label='Daily Losses')\n",
    "    \n",
    "    # Customizations\n",
    "    plt.grid(True, which='both', axis='both', color='gray', linestyle=':', linewidth=0.5)\n",
    "    plt.title('Tank Losses in the Last Year (2023-2024)', fontsize=16)\n",
    "    plt.xlabel('Date', fontsize=12)\n",
    "    plt.ylabel('Tank Losses', fontsize=12)\n",
    "    plt.legend()\n",
    "    \n",
    "    # Save the plot\n",
    "    plt.savefig('tank_losses.png')\n",
    "    plt.show()"
   ]
  },
  {
   "cell_type": "code",
   "execution_count": 42,
   "id": "1e35f621",
   "metadata": {},
   "outputs": [
    {
     "data": {
      "image/png": "[encoded data removed]",
      "text/plain": [
       "<Figure size 800x1600 with 1 Axes>"
      ]
     },
     "metadata": {},
     "output_type": "display_data"
    }
   ],
   "source": [
    "plot_tank_losses(file_name)"
   ]
  },
  {
   "cell_type": "markdown",
   "id": "02854f50",
   "metadata": {},
   "source": [
    "## Link to GitHub: [Lab1](https://github.com/OlgaTsuban/Python_university)"
   ]
  },
  {
   "cell_type": "markdown",
   "id": "b1d48c30",
   "metadata": {},
   "source": [
    "## Link to Nbviever: [Lab1](https://nbviewer.org/github/OlgaTsuban/Python_university/blob/main/Python_lab1_Tsyban_Olga/Python_lab1_TsybanOlga_KN222A.ipynb)"
   ]
  }
 ],
 "metadata": {
  "kernelspec": {
   "display_name": "Python 3 (ipykernel)",
   "language": "python",
   "name": "python3"
  },
  "language_info": {
   "codemirror_mode": {
    "name": "ipython",
    "version": 3
   },
   "file_extension": ".py",
   "mimetype": "text/x-python",
   "name": "python",
   "nbconvert_exporter": "python",
   "pygments_lexer": "ipython3",
   "version": "3.11.5"
  }
 },
 "nbformat": 4,
 "nbformat_minor": 5
}
