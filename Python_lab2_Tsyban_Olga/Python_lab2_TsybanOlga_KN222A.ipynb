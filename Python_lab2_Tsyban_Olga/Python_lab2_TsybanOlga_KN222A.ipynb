{
 "cells": [
  {
   "cell_type": "markdown",
   "id": "02f329f1",
   "metadata": {},
   "source": [
    "# Lab 2: Pandas for data analytics"
   ]
  },
  {
   "cell_type": "markdown",
   "id": "820f683f",
   "metadata": {},
   "source": [
    "## Purpose:To learn basic Pandas functions for data analytics."
   ]
  },
  {
   "cell_type": "markdown",
   "id": "266e2799",
   "metadata": {},
   "source": [
    "**Link to kaddle dataset: \n",
    "https://www.kaggle.com/datasets/kaggle/us-baby-names**"
   ]
  },
  {
   "cell_type": "code",
   "execution_count": 1,
   "id": "6781a10c",
   "metadata": {},
   "outputs": [
    {
     "name": "stdout",
     "output_type": "stream",
     "text": [
      "Olga Tsyban's variant : 2\n"
     ]
    }
   ],
   "source": [
    "# find variant for lab2\n",
    "n = 17\n",
    "N = (n + 4 ) % 5 + 1\n",
    "print(f\"Olga Tsyban's variant : {N}\")"
   ]
  },
  {
   "cell_type": "markdown",
   "id": "8a8289be",
   "metadata": {},
   "source": [
    "#### Acording to the 2nd variant : 3, 4, 5, 8, 9,11,12,13,14,16,17,18, 19, 20, 22, 23, 24, 27"
   ]
  },
  {
   "cell_type": "code",
   "execution_count": 3,
   "id": "5f9f6d4b",
   "metadata": {},
   "outputs": [],
   "source": [
    "# all imports\n",
    "import pandas as pd\n",
    "import matplotlib.pyplot as plt\n",
    "import matplotlib.ticker as mtick"
   ]
  },
  {
   "cell_type": "code",
   "execution_count": 3,
   "id": "1eb6f9a3",
   "metadata": {},
   "outputs": [
    {
     "name": "stdout",
     "output_type": "stream",
     "text": [
      "   Id       Name  Year Gender  Count\n",
      "0   1       Mary  1880      F   7065\n",
      "1   2       Anna  1880      F   2604\n",
      "2   3       Emma  1880      F   2003\n",
      "3   4  Elizabeth  1880      F   1939\n",
      "4   5     Minnie  1880      F   1746\n"
     ]
    }
   ],
   "source": [
    "# Read data from file to df\n",
    "file_name = 'NationalNames.csv'\n",
    "df = pd.read_csv(file_name)\n",
    "\n",
    "\n",
    "print(df.head())"
   ]
  },
  {
   "cell_type": "code",
   "execution_count": 6,
   "id": "4f146e26",
   "metadata": {},
   "outputs": [
    {
     "name": "stdout",
     "output_type": "stream",
     "text": [
      "Index(['Id', 'Name', 'Year', 'Gender', 'Count'], dtype='object')\n",
      "Id\n",
      "Name\n",
      "Year\n",
      "Gender\n",
      "Count\n"
     ]
    }
   ],
   "source": [
    "\"\"\"Task 3\n",
    "    Отримайте імена стовпців набору даних\"\"\"\n",
    "print(df.columns)\n",
    "\n",
    "columns_names = list(df.columns)\n",
    "for col in columns_names:\n",
    "    print(col)"
   ]
  },
  {
   "cell_type": "code",
   "execution_count": 9,
   "id": "4020353b",
   "metadata": {},
   "outputs": [
    {
     "data": {
      "text/html": [
       "<div>\n",
       "<style scoped>\n",
       "    .dataframe tbody tr th:only-of-type {\n",
       "        vertical-align: middle;\n",
       "    }\n",
       "\n",
       "    .dataframe tbody tr th {\n",
       "        vertical-align: top;\n",
       "    }\n",
       "\n",
       "    .dataframe thead th {\n",
       "        text-align: right;\n",
       "    }\n",
       "</style>\n",
       "<table border=\"1\" class=\"dataframe\">\n",
       "  <thead>\n",
       "    <tr style=\"text-align: right;\">\n",
       "      <th></th>\n",
       "      <th>Id</th>\n",
       "      <th>Year</th>\n",
       "      <th>Count</th>\n",
       "    </tr>\n",
       "  </thead>\n",
       "  <tbody>\n",
       "    <tr>\n",
       "      <th>count</th>\n",
       "      <td>1.825433e+06</td>\n",
       "      <td>1.825433e+06</td>\n",
       "      <td>1.825433e+06</td>\n",
       "    </tr>\n",
       "    <tr>\n",
       "      <th>mean</th>\n",
       "      <td>9.127170e+05</td>\n",
       "      <td>1.972620e+03</td>\n",
       "      <td>1.846879e+02</td>\n",
       "    </tr>\n",
       "    <tr>\n",
       "      <th>std</th>\n",
       "      <td>5.269573e+05</td>\n",
       "      <td>3.352891e+01</td>\n",
       "      <td>1.566711e+03</td>\n",
       "    </tr>\n",
       "    <tr>\n",
       "      <th>min</th>\n",
       "      <td>1.000000e+00</td>\n",
       "      <td>1.880000e+03</td>\n",
       "      <td>5.000000e+00</td>\n",
       "    </tr>\n",
       "    <tr>\n",
       "      <th>25%</th>\n",
       "      <td>4.563590e+05</td>\n",
       "      <td>1.949000e+03</td>\n",
       "      <td>7.000000e+00</td>\n",
       "    </tr>\n",
       "    <tr>\n",
       "      <th>50%</th>\n",
       "      <td>9.127170e+05</td>\n",
       "      <td>1.982000e+03</td>\n",
       "      <td>1.200000e+01</td>\n",
       "    </tr>\n",
       "    <tr>\n",
       "      <th>75%</th>\n",
       "      <td>1.369075e+06</td>\n",
       "      <td>2.001000e+03</td>\n",
       "      <td>3.200000e+01</td>\n",
       "    </tr>\n",
       "    <tr>\n",
       "      <th>max</th>\n",
       "      <td>1.825433e+06</td>\n",
       "      <td>2.014000e+03</td>\n",
       "      <td>9.968000e+04</td>\n",
       "    </tr>\n",
       "  </tbody>\n",
       "</table>\n",
       "</div>"
      ],
      "text/plain": [
       "                 Id          Year         Count\n",
       "count  1.825433e+06  1.825433e+06  1.825433e+06\n",
       "mean   9.127170e+05  1.972620e+03  1.846879e+02\n",
       "std    5.269573e+05  3.352891e+01  1.566711e+03\n",
       "min    1.000000e+00  1.880000e+03  5.000000e+00\n",
       "25%    4.563590e+05  1.949000e+03  7.000000e+00\n",
       "50%    9.127170e+05  1.982000e+03  1.200000e+01\n",
       "75%    1.369075e+06  2.001000e+03  3.200000e+01\n",
       "max    1.825433e+06  2.014000e+03  9.968000e+04"
      ]
     },
     "execution_count": 9,
     "metadata": {},
     "output_type": "execute_result"
    }
   ],
   "source": [
    "\"\"\"Task 4\n",
    "    Отримайте загальну(статичну) інформацію про дані у наборі даних.\"\"\"\n",
    "df.describe()"
   ]
  },
  {
   "cell_type": "code",
   "execution_count": 14,
   "id": "904be370",
   "metadata": {},
   "outputs": [
    {
     "data": {
      "text/plain": [
       "93889"
      ]
     },
     "execution_count": 14,
     "metadata": {},
     "output_type": "execute_result"
    }
   ],
   "source": [
    "\"\"\"Task 5\n",
    "    Знайдіть кількість унікальних імен у наборі даних\n",
    "\"\"\"\n",
    "# df['Name'].unique() - unique values\n",
    "\n",
    "df['Name'].nunique()"
   ]
  },
  {
   "cell_type": "code",
   "execution_count": 18,
   "id": "bfe23ed3",
   "metadata": {},
   "outputs": [
    {
     "name": "stdout",
     "output_type": "stream",
     "text": [
      "The name in 1947 is Linda\n"
     ]
    }
   ],
   "source": [
    "\"\"\"Task 8\n",
    "    Знайдіть найпопулярніше ім’я за результатами одного року (ім’я, для якого Count максимальне)\"\"\"\n",
    "year = 1947\n",
    "df_year = df[df['Year'] == year]\n",
    "most_popular_name = df_year.loc[df_year['Count'].idxmax(), 'Name']\n",
    "print(f'The name in {year} is {most_popular_name}')"
   ]
  },
  {
   "cell_type": "code",
   "execution_count": 20,
   "id": "404e6705",
   "metadata": {},
   "outputs": [
    {
     "name": "stdout",
     "output_type": "stream",
     "text": [
      "Records Amount з min Count value: 254615\n"
     ]
    }
   ],
   "source": [
    "\"\"\"Task 9\n",
    "    Підрахуйте кількість записів, для яких Count - мінімальне у наборі.\"\"\"\n",
    "min_count = df['Count'].min()\n",
    "min_count_records = df[df['Count'] == min_count].shape[0] \n",
    "print(f'Records Amount з min Count value: {min_count_records}')"
   ]
  },
  {
   "cell_type": "code",
   "execution_count": 21,
   "id": "cb9bf4e2",
   "metadata": {},
   "outputs": [
    {
     "name": "stdout",
     "output_type": "stream",
     "text": [
      "Year with max amount of unique names: 2008\n",
      "Amount of unique names: 32488\n"
     ]
    }
   ],
   "source": [
    "\"\"\"Task 11\n",
    "    Знайдіть рік із найбільшою кількістю унікальних імен\"\"\"\n",
    "unique_names_per_year = df.groupby('Year')['Name'].nunique()\n",
    "\n",
    "year_with_most_unique_names = unique_names_per_year.idxmax()\n",
    "max_unique_names = unique_names_per_year.max()\n",
    "\n",
    "print(f\"Year with max amount of unique names: {year_with_most_unique_names}\")\n",
    "print(f\"Amount of unique names: {max_unique_names}\")"
   ]
  },
  {
   "cell_type": "code",
   "execution_count": 25,
   "id": "f9ec6806",
   "metadata": {},
   "outputs": [
    {
     "name": "stdout",
     "output_type": "stream",
     "text": [
      "most popular name: Jacob\n"
     ]
    }
   ],
   "source": [
    "\"\"\"Task 12\n",
    "    Знайдіть найпопулярніше ім’я в році з найбільшою кількістю унікальних імен (тобто у 2008 році)\"\"\"\n",
    "year_2008 = df[df['Year'] == 2008]\n",
    "most_popular_name_2008 = year_2008.loc[year_2008['Count'].idxmax()]\n",
    "print(f\"most popular name: {most_popular_name_2008.Name}\")"
   ]
  },
  {
   "cell_type": "code",
   "execution_count": 42,
   "id": "ea265628",
   "metadata": {},
   "outputs": [
    {
     "name": "stdout",
     "output_type": "stream",
     "text": [
      "records in table with num: 1455556\n",
      "Name Jacob (F) was the most popular woman name in 2004 with amount 171\n"
     ]
    }
   ],
   "source": [
    "\"\"\"Task 13\n",
    "    Знайдіть рік, коли ім’я “Jacob” було найпопулярнішим серед жіночих імен\"\"\"\n",
    "name_jacob = df[(df['Name'] == 'Jacob' ) & (df['Gender'] == 'F')]\n",
    "#print(name_jacob)\n",
    "count_popular_name_jacob = name_jacob['Count'].max()\n",
    "year_popular_name_jacob = name_jacob.loc[name_jacob['Count'].idxmax()]\n",
    "print(\"records in table with num:\", name_jacob['Count'].idxmax())\n",
    "print(f\"Name Jacob (F) was the most popular woman name in {year_popular_name_jacob.Year} with amount {count_popular_name_jacob}\")"
   ]
  },
  {
   "cell_type": "code",
   "execution_count": 46,
   "id": "61aa569e",
   "metadata": {},
   "outputs": [
    {
     "name": "stdout",
     "output_type": "stream",
     "text": [
      "         Year      Name  Gender\n",
      "0        1880     Aaron       1\n",
      "1        1880        Ab       1\n",
      "2        1880     Abbie       1\n",
      "3        1880    Abbott       1\n",
      "4        1880      Abby       1\n",
      "...       ...       ...     ...\n",
      "1664775  2014     Zyron       1\n",
      "1664776  2014     Zyrus       1\n",
      "1664777  2014   Zyshawn       1\n",
      "1664778  2014  Zytaveon       1\n",
      "1664779  2014     Zyyon       1\n",
      "\n",
      "[1664780 rows x 3 columns]\n",
      "         Year    Name  Gender\n",
      "16       1880   Addie       2\n",
      "65       1880   Allie       2\n",
      "67       1880    Alma       2\n",
      "76       1880   Alpha       2\n",
      "84       1880    Alva       2\n",
      "...       ...     ...     ...\n",
      "1664697  2014   Zyair       2\n",
      "1664700  2014  Zyaire       2\n",
      "1664701  2014    Zyan       2\n",
      "1664722  2014   Zyion       2\n",
      "1664759  2014    Zyon       2\n",
      "\n",
      "[160653 rows x 3 columns]\n",
      "Year with the biggest amount of neutral names: 2008\n",
      "Amount of neutral names: 2557\n"
     ]
    }
   ],
   "source": [
    "\"\"\"Task 14\n",
    "    Знайти рік із найбільшою кількістю гендерно нейтральних імен (однакові чоловічі та жіночі імена)\"\"\"\n",
    "\n",
    "neutral_names_per_year = df.groupby(['Year', 'Name'])['Gender'].nunique().reset_index()\n",
    "print(neutral_names_per_year)\n",
    "\n",
    "neutral_names = neutral_names_per_year[neutral_names_per_year['Gender'] == 2]\n",
    "print(neutral_names)\n",
    "\n",
    "neutral_name_count_per_year = neutral_names.groupby('Year')['Name'].count().reset_index()\n",
    "year_most_neutral_names = neutral_name_count_per_year.loc[neutral_name_count_per_year['Name'].idxmax()]\n",
    "\n",
    "print(f\"Year with the biggest amount of neutral names: {year_most_neutral_names['Year']}\")\n",
    "print(f\"Amount of neutral names: {year_most_neutral_names['Name']}\")\n"
   ]
  },
  {
   "cell_type": "code",
   "execution_count": 54,
   "id": "45cd3099",
   "metadata": {},
   "outputs": [
    {
     "name": "stdout",
     "output_type": "stream",
     "text": [
      "The year with the most births is 1957 with 4200026 children born.\n"
     ]
    }
   ],
   "source": [
    "\"\"\"Task 16\n",
    "    Знайдіть рік, коли народилося найбільше дітей\"\"\"\n",
    "\n",
    "birth_counts = df.groupby('Year')['Count'].sum()  \n",
    "\n",
    "max_birth_year = birth_counts.idxmax()\n",
    "max_birth_count = birth_counts.max()\n",
    "\n",
    "print(f'The year with the most births is {max_birth_year} with {max_birth_count} children born.')"
   ]
  },
  {
   "cell_type": "code",
   "execution_count": 5,
   "id": "9c40034b",
   "metadata": {},
   "outputs": [
    {
     "name": "stdout",
     "output_type": "stream",
     "text": [
      "       Female     Male\n",
      "Year                  \n",
      "1880    90993   110491\n",
      "1881    91954   100745\n",
      "1882   107850   113688\n",
      "1883   112321   104629\n",
      "1884   129022   114445\n",
      "...       ...      ...\n",
      "2010  1772738  1913851\n",
      "2011  1753500  1893230\n",
      "2012  1753922  1889414\n",
      "2013  1745339  1881463\n",
      "2014  1768775  1901376\n",
      "\n",
      "[135 rows x 2 columns]\n"
     ]
    }
   ],
   "source": [
    "\"\"\"Task 17\n",
    "    Знайдіть кількість дівчаток та хлопчиків, які народились кожного року\"\"\"\n",
    "\n",
    "gender_counts_per_year = df.groupby(['Year', 'Gender'])['Count'].sum().reset_index()\n",
    "\n",
    "gender_counts_per_year.columns = ['Year', 'Gender', 'Count']\n",
    "\n",
    "gender_pivot = gender_counts_per_year.pivot_table(index='Year', columns='Gender', values='Count', fill_value=0)\n",
    "gender_pivot.columns = ['Female', 'Male']\n",
    "print(gender_pivot)"
   ]
  },
  {
   "cell_type": "code",
   "execution_count": 6,
   "id": "948eed91",
   "metadata": {},
   "outputs": [
    {
     "name": "stdout",
     "output_type": "stream",
     "text": [
      "The number of years when girls were born more than boys: 54\n"
     ]
    }
   ],
   "source": [
    "\"\"\"Task 18\n",
    "    Підрахуйте кількість років, коли дівчаток народжувалось більше, ніж хлопчиків.\"\"\"\n",
    "years_more_girls = gender_pivot[gender_pivot['Female'] > gender_pivot['Male']]\n",
    "\n",
    "count_years_more_girls = len(years_more_girls)\n",
    "print(f\"The number of years when girls were born more than boys: {count_years_more_girls}\")"
   ]
  },
  {
   "cell_type": "code",
   "execution_count": 25,
   "id": "5b5baaaa",
   "metadata": {},
   "outputs": [
    {
     "data": {
      "image/png": "[encoded data removed]",
      "text/plain": [
       "<Figure size 800x500 with 1 Axes>"
      ]
     },
     "metadata": {},
     "output_type": "display_data"
    }
   ],
   "source": [
    "\"\"\"Task 19\n",
    "    Накресліть графік загальної кількості народжень хлопчиків та дівчаток на рік.\"\"\"\n",
    "plt.figure(figsize=(8, 5))\n",
    "\n",
    "plt.plot(gender_pivot.index, gender_pivot['F'], label='F', color='#F00FE9')\n",
    "plt.plot(gender_pivot.index, gender_pivot['M'], label='M', color='blue')\n",
    "\n",
    "plt.title('Total birth amount of boys and girls per year', fontsize=14)\n",
    "plt.xlabel('Year', fontsize=12)\n",
    "plt.ylabel('Total birth per year', fontsize=12)\n",
    "# Set y-axis to show values as integers with commas (e.g., 500,000)\n",
    "plt.gca().yaxis.set_major_formatter(mtick.FuncFormatter(lambda x, _: f'{int(x):,}'))\n",
    "\n",
    "plt.legend(title=\"Gender\")\n",
    "plt.grid(True)\n",
    "\n",
    "plt.show()"
   ]
  },
  {
   "cell_type": "code",
   "execution_count": 30,
   "id": "3a243bbd",
   "metadata": {},
   "outputs": [
    {
     "name": "stdout",
     "output_type": "stream",
     "text": [
      "Amount of neutral names: 10221\n"
     ]
    }
   ],
   "source": [
    "\"\"\"Task 20\n",
    "    Підрахуйте кількість гендерно нейтральних імен (однакових для дівчат та хлопців)\"\"\"\n",
    "neutral_names = df.groupby('Name')['Gender'].nunique()\n",
    "\n",
    "gender_neutral_names = neutral_names[neutral_names == 2]\n",
    "\n",
    "gender_neutral_count = gender_neutral_names.count()\n",
    "\n",
    "print(f\"Amount of neutral names: {gender_neutral_count}\")\n"
   ]
  },
  {
   "cell_type": "code",
   "execution_count": 29,
   "id": "28ae1f5f",
   "metadata": {},
   "outputs": [
    {
     "name": "stdout",
     "output_type": "stream",
     "text": [
      "Year's Amount of observation: 135\n"
     ]
    }
   ],
   "source": [
    "\"\"\"Task 22\n",
    "     Підрахуйте скільки років проводилось спостереження\"\"\"\n",
    "min_year = df['Year'].min()\n",
    "max_year = df['Year'].max()\n",
    "\n",
    "result_rears = max_year - min_year + 1\n",
    "\n",
    "print(f\"Year's Amount of observation: {result_rears}\")"
   ]
  },
  {
   "cell_type": "code",
   "execution_count": 7,
   "id": "2c256ccc",
   "metadata": {},
   "outputs": [
    {
     "name": "stdout",
     "output_type": "stream",
     "text": [
      "The most popular gender-neutral names:\n",
      "Name\n",
      "James      5129096\n",
      "John       5106590\n",
      "Robert     4816785\n",
      "William    4071368\n",
      "Joseph     2580687\n",
      "Jean        480901\n",
      "Jesse       421406\n",
      "Leslie      376587\n",
      "Francis     312147\n",
      "Lee         291691\n",
      "Jessie      274931\n",
      "Marion      259549\n",
      "Johnnie     149953\n",
      "Sidney      105185\n",
      "Ollie        56482\n",
      "Tommie       51315\n",
      "Name: Count, dtype: int64\n"
     ]
    }
   ],
   "source": [
    "\"\"\"Task 23\n",
    "    Знати найпопулярніші гендерно-нейтральні імена (ті, що присутні кожного року)\"\"\"\n",
    "neutral_names = df.groupby(['Year', 'Name'])['Gender'].nunique()\n",
    "neutral_names = neutral_names[neutral_names > 1].reset_index()\n",
    "\n",
    "years_of_observation = df['Year'].nunique()\n",
    "popular_neutral_names = neutral_names.groupby('Name')['Year'].nunique()\n",
    "popular_neutral_names = popular_neutral_names[popular_neutral_names == years_of_observation].index\n",
    "\n",
    "total_births_neutral_names = df[df['Name'].isin(popular_neutral_names)].groupby('Name')['Count'].sum().sort_values(ascending=False)\n",
    "\n",
    "print(\"The most popular gender-neutral names:\")\n",
    "print(total_births_neutral_names)"
   ]
  },
  {
   "cell_type": "code",
   "execution_count": 63,
   "id": "afcebf6f",
   "metadata": {},
   "outputs": [
    {
     "name": "stdout",
     "output_type": "stream",
     "text": [
      "            Name  Count\n",
      "0          Aaban     72\n",
      "1          Aabha     21\n",
      "2          Aabid      5\n",
      "3      Aabriella     10\n",
      "5          Aadan    112\n",
      "...          ...    ...\n",
      "93884  Zytavious     43\n",
      "93885     Zyvion      5\n",
      "93886    Zyyanna      6\n",
      "93887      Zyyon      6\n",
      "93888      Zzyzx      5\n",
      "\n",
      "[65483 rows x 2 columns]\n",
      "           Name  Count\n",
      "14862  Celester    401\n",
      "The most popular among unpopular names is 'Gurshan' with a total count of 160.\n"
     ]
    }
   ],
   "source": [
    "\"\"\"Task 24\n",
    "    Знайти найпопулярніше серед непопулярних імен (непопулярне ім’я, яким називали дітей найбільшу кількість разів )\"\"\n",
    "\"\"\"\n",
    "name_counts = df.groupby('Name')['Count'].sum().reset_index()\n",
    "\n",
    "unpopular_threshold = 161\n",
    "unpopular_names = name_counts[name_counts['Count'] < unpopular_threshold]\n",
    "print(unpopular_names)\n",
    "print(unpopular_name[unpopular_name['Name'] == 'Celester'])\n",
    "\n",
    "most_popular_unpopular_name = unpopular_names.sort_values(by='Count', ascending=False)\n",
    "\n",
    "# Get the top result\n",
    "if not most_popular_unpopular_name.empty:\n",
    "    result = most_popular_unpopular_name.iloc[0]\n",
    "    print(f\"The most popular among unpopular names is '{result['Name']}' with a total count of {result['Count']}.\")\n",
    "else:\n",
    "    print(\"No unpopular names found based on the given threshold.\")"
   ]
  },
  {
   "cell_type": "code",
   "execution_count": 10,
   "id": "4c177f0d",
   "metadata": {},
   "outputs": [
    {
     "name": "stdout",
     "output_type": "stream",
     "text": [
      "           Name  Year\n",
      "12207  Celester    29\n",
      "The most popular 'unpopular' name (with Count = 5) that appeared in the most years is 'Ebbie' with 30 years.\n"
     ]
    }
   ],
   "source": [
    "filtered_df = df[df['Count'] == 5]\n",
    "\n",
    "# year count with Count = 5\n",
    "name_year_counts = filtered_df.groupby('Name')['Year'].nunique().reset_index()\n",
    "print(name_year_counts[name_year_counts['Name'] == 'Celester'])\n",
    "\n",
    "most_popular_unpopular_name = name_year_counts.sort_values(by='Year', ascending=False).iloc[0]\n",
    "\n",
    "print(f\"The most popular 'unpopular' name (with Count = 5) that appeared in the most years is '{most_popular_unpopular_name['Name']}' with {most_popular_unpopular_name['Year']} years.\")\n"
   ]
  },
  {
   "cell_type": "code",
   "execution_count": 53,
   "id": "5272b3a0",
   "metadata": {},
   "outputs": [
    {
     "name": "stdout",
     "output_type": "stream",
     "text": [
      "            Id       Name  Year Gender  Count\n",
      "527024  527025  Bernadine  1956      F    160\n",
      "Найпопулярніше серед непопулярних імен: Bernadine. Ним називали 160 разів\n"
     ]
    }
   ],
   "source": [
    "unpopular_names = df[df['Count'] <= 160]\n",
    "most_popular_unpopular_name = unpopular_names.sort_values(by='Count', ascending=False).head(1)\n",
    "print(most_popular_unpopular_name)\n",
    "print(f\"Найпопулярніше серед непопулярних імен: {most_popular_unpopular_name['Name'].values[0]}. Ним називали {most_popular_unpopular_name['Count'].values[0]} разів\")"
   ]
  },
  {
   "cell_type": "code",
   "execution_count": 45,
   "id": "514a9866",
   "metadata": {},
   "outputs": [
    {
     "name": "stdout",
     "output_type": "stream",
     "text": [
      "         Year      Name  Count\n",
      "942      1880      John   9655\n",
      "2938     1881      John   8769\n",
      "4963     1882      John   9557\n",
      "7116     1883      John   8894\n",
      "9318     1884      John   9388\n",
      "...       ...       ...    ...\n",
      "1657592  2010  Isabella  22883\n",
      "1691633  2011    Sophia  21816\n",
      "1725502  2012    Sophia  22267\n",
      "1759186  2013    Sophia  21147\n",
      "1792389  2014      Emma  20799\n",
      "\n",
      "[135 rows x 3 columns]\n"
     ]
    }
   ],
   "source": [
    "\"\"\"Task 27\n",
    "    Знайти найпопулярніші імена в кожному році.\"\"\"\n",
    "popular_names = df.loc[df.groupby('Year')['Count'].idxmax()]\n",
    "\n",
    "print(popular_names[['Year', 'Name', 'Count']])"
   ]
  },
  {
   "cell_type": "markdown",
   "id": "f3692120",
   "metadata": {},
   "source": [
    "## Link to GitHub: [Lab2](https://github.com/OlgaTsuban/Python_university)"
   ]
  },
  {
   "cell_type": "markdown",
   "id": "66c6b019",
   "metadata": {},
   "source": [
    "## Link to Nbviever: [Lab2](https://nbviewer.org/github/OlgaTsuban/Python_university/blob/main/Python_lab2_Tsyban_Olga/Python_lab2_TsybanOlga_KN222A.ipynb)"
   ]
  }
 ],
 "metadata": {
  "kernelspec": {
   "display_name": "Python 3 (ipykernel)",
   "language": "python",
   "name": "python3"
  },
  "language_info": {
   "codemirror_mode": {
    "name": "ipython",
    "version": 3
   },
   "file_extension": ".py",
   "mimetype": "text/x-python",
   "name": "python",
   "nbconvert_exporter": "python",
   "pygments_lexer": "ipython3",
   "version": "3.11.5"
  }
 },
 "nbformat": 4,
 "nbformat_minor": 5
}
